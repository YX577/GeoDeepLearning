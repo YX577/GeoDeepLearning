{
 "cells": [
  {
   "cell_type": "markdown",
   "metadata": {
    "colab_type": "text",
    "id": "view-in-github"
   },
   "source": [
    "<a href=\"https://colab.research.google.com/github/homayoun1990/GeoDeepLearning/blob/master/colabs/s2_preprocessing_demo.ipynb\" target=\"_parent\"><img src=\"https://colab.research.google.com/assets/colab-badge.svg\" alt=\"Open In Colab\"/></a>"
   ]
  },
  {
   "cell_type": "markdown",
   "metadata": {
    "colab_type": "text",
    "id": "oxnmqiLtTfZ6"
   },
   "source": [
    "## **Sentinel-1 SAR GRD: C-band Synthetic Aperture Radar processing with Google Earth Engine**\n",
    "\n",
    "- Created by:\n",
    "```\n",
    "[Ali Rezaie ](https://github.com/homayoun1990)\n",
    "[Cesar Aybar](https://github.com/csaybar)\n",
    "```"
   ]
  },
  {
   "cell_type": "markdown",
   "metadata": {},
   "source": [
    "Sentinel-1 collects C-band synthetic aperture radar (SAR) imagery at a variety of polarizations and resolutions. Since radar data requires several specialized algorithms to obtain calibrated, orthorectified imagery, this document describes pre-processing of Sentinel-1 data in Earth Engine."
   ]
  },
  {
   "cell_type": "markdown",
   "metadata": {},
   "source": [
    "![sentinel 1 C-band SAR imagery](https://geocento.com/wp-content/uploads/2015/12/satellite-imagery-gallery-sentinel-1-sampit-indonesia.jpg)"
   ]
  },
  {
   "cell_type": "markdown",
   "metadata": {
    "colab_type": "text",
    "id": "23wtuRiBVLDa"
   },
   "source": [
    "**1) Authenticate Earth Engine Account**"
   ]
  },
  {
   "cell_type": "code",
   "execution_count": 0,
   "metadata": {
    "colab": {},
    "colab_type": "code",
    "id": "ssSUoejzVY7E"
   },
   "outputs": [],
   "source": [
    "!earthengine authenticate"
   ]
  },
  {
   "cell_type": "markdown",
   "metadata": {
    "colab_type": "text",
    "id": "S6r7L3__W8D-"
   },
   "source": [
    "**2) Load trird-party libraries and Initialize the Earth Engine API**"
   ]
  },
  {
   "cell_type": "code",
   "execution_count": null,
   "metadata": {
    "colab": {},
    "colab_type": "code",
    "id": "OOok1JMMW-tk"
   },
   "outputs": [],
   "source": [
    "# Import the Earth Engine API and initialize it.\n",
    "\n",
    "import ee\n",
    "from display.mapdisplay import mapdisplay\n",
    "ee.Initialize()\n",
    "print (\"wow! congratulation, it's work!!!!!!!!\")"
   ]
  },
  {
   "cell_type": "markdown",
   "metadata": {
    "colab_type": "text",
    "id": "IOQtsUAy2rT2"
   },
   "source": [
    "**3) Viz parameters**"
   ]
  },
  {
   "cell_type": "code",
   "execution_count": 0,
   "metadata": {
    "colab": {},
    "colab_type": "code",
    "id": "svs5QKV90xJT"
   },
   "outputs": [],
   "source": [
    "# viz params\n",
    "# To Do >>> find the best max and min for SAR images\n",
    "saga_palette = [\"#000180\", \"#0075FD\", \"#6CFB93\", \"#F99D05\", \"#A70700\"]\n",
    "vh_viz = {'palette': saga_palette, 'max':0.2, 'min':0}\n",
    "vv_viz = {'palette': saga_palette, 'max':0.2, 'min':0}"
   ]
  },
  {
   "cell_type": "markdown",
   "metadata": {
    "colab_type": "text",
    "id": "pJMWiwwj2yea"
   },
   "source": [
    "**4) Testing area and time (Loreto, Peru)**"
   ]
  },
  {
   "cell_type": "code",
   "execution_count": 0,
   "metadata": {
    "colab": {},
    "colab_type": "code",
    "id": "jLBa0Be_2vsZ"
   },
   "outputs": [],
   "source": [
    "roi=ee.Geometry.Polygon([[-73.36532592773438,-3.866994949019476],\n",
    "                         [-73.24859619140625,-3.866994949019476],\n",
    "                         [-73.24859619140625,-3.751208225628627],\n",
    "                         [-73.36532592773438,-3.751208225628627],\n",
    "                         [-73.36532592773438,-3.866994949019476]])\n",
    "\n",
    "startDate = \"\"\n",
    "endDate = \"\""
   ]
  },
  {
   "cell_type": "markdown",
   "metadata": {
    "colab_type": "text",
    "id": "UTSZPYaC3J0k"
   },
   "source": [
    "**5) Preparing Sentinel1 ImageCollection by Metadata Filtering**"
   ]
  },
  {
   "cell_type": "code",
   "execution_count": 0,
   "metadata": {
    "colab": {},
    "colab_type": "code",
    "id": "Q-3MyNyh28ad"
   },
   "outputs": [],
   "source": [
    "# Load the Sentinel-1 ImageCollection.\n",
    "sentinel1 = ee.ImageCollection('COPERNICUS/S1_GRD')\n",
    "\n",
    "\n",
    "# Filter by metadata properties.\n",
    "vh = sentinel1\n",
    "  # Filter to get images with VV and VH dual polarization.\n",
    "  .filter(ee.Filter.listContains('transmitterReceiverPolarisation', 'VV'))\n",
    "  .filter(ee.Filter.listContains('transmitterReceiverPolarisation', 'VH'))\n",
    "  # Filter to get images collected in interferometric wide swath mode.\n",
    "  .filter(ee.Filter.eq('instrumentMode', 'IW'))\n",
    "\n",
    "    \n",
    "# Filter to get images from different look angles.\n",
    "vhAscending = vh.filter(ee.Filter.eq('orbitProperties_pass', 'ASCENDING'));\n",
    "vhDescending = vh.filter(ee.Filter.eq('orbitProperties_pass', 'DESCENDING'));\n",
    "\n",
    "\n",
    "vhAscending.getInfo()\n",
    "vhDescending.getInfo()"
   ]
  },
  {
   "cell_type": "markdown",
   "metadata": {
    "colab_type": "text",
    "id": "tn77dd6F3Rnr"
   },
   "source": [
    "**6) Visualaize SAR images**"
   ]
  },
  {
   "cell_type": "code",
   "execution_count": 0,
   "metadata": {
    "colab": {},
    "colab_type": "code",
    "id": "O9d0Dco53QqL"
   },
   "outputs": [],
   "source": [
    "#To Do>> modified the code for sentinel 1 images\n",
    "mapdisplay(center = center,\n",
    "           dicc = {\n",
    "               'sentinel2':mosaic_s2.getMapId(s2viz),\n",
    "               'cloud_percentage':mosaic_s2.select('cloudScore').getMapId(cloudscore_viz),\n",
    "               #'shadow_percentage':mosaic_s2.select('shadowScore').getMapId(cloudscore_viz),\n",
    "               #'cloudshadow_percentage':mosaic_s2.select('cloudShadowScore').getMapId(cloud_shadow_score_viz)\n",
    "                  },\n",
    "           zoom_start=12)\n",
    "\n"
   ]
  },
  {
   "cell_type": "markdown",
   "metadata": {
    "colab_type": "text",
    "id": "Tl8bWxUP4PKf"
   },
   "source": [
    "**7) Preprocessing Sentinel-1 SAR GRD based on different Radar Polarization Signature (\"HH\", \"VV\", \"HV\" and \"VH\")**"
   ]
  },
  {
   "cell_type": "code",
   "execution_count": null,
   "metadata": {
    "colab": {
     "base_uri": "https://localhost:8080/",
     "height": 583
    },
    "colab_type": "code",
    "id": "m5Pia0aQ3V8B",
    "outputId": "a4963184-3c88-4b95-f69f-5ae66102b8d9"
   },
   "outputs": [],
   "source": [
    "\n",
    "\n"
   ]
  }
 ],
 "metadata": {
  "colab": {
   "authorship_tag": "ABX9TyPvRTPFoRqnflJMSwNILZJo",
   "collapsed_sections": [],
   "include_colab_link": true,
   "name": "s2_preprocessing_demo.ipynb",
   "provenance": []
  },
  "kernelspec": {
   "display_name": "Python 3",
   "language": "python",
   "name": "python3"
  },
  "language_info": {
   "codemirror_mode": {
    "name": "ipython",
    "version": 3
   },
   "file_extension": ".py",
   "mimetype": "text/x-python",
   "name": "python",
   "nbconvert_exporter": "python",
   "pygments_lexer": "ipython3",
   "version": "3.7.4"
  }
 },
 "nbformat": 4,
 "nbformat_minor": 1
}
