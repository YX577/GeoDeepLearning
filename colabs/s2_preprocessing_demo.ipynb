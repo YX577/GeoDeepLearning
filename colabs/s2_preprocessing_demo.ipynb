{
 "cells": [
  {
   "cell_type": "markdown",
   "metadata": {
    "colab_type": "text",
    "id": "view-in-github"
   },
   "source": [
    "<a href=\"https://colab.research.google.com/github/homayoun1990/GeoDeepLearning/blob/master/colabs/s2_preprocessing_demo.ipynb\" target=\"_parent\"><img src=\"https://colab.research.google.com/assets/colab-badge.svg\" alt=\"Open In Colab\"/></a>"
   ]
  },
  {
   "cell_type": "markdown",
   "metadata": {
    "colab_type": "text",
    "id": "oxnmqiLtTfZ6"
   },
   "source": [
    "## **Aggregating cloud-free Sentinel-2 images with Google Earth Engine**\n",
    "\n",
    "**Original script**: https://code.earthengine.google.com/d7a7751a50f18cefc66f18082a87eed3\n",
    "- Created by: [Michael Schmitt et al. 2019](https://www.isprs-ann-photogramm-remote-sens-spatial-inf-sci.net/IV-2-W7/145/2019/isprs-annals-IV-2-W7-145-2019.pdf) \n",
    "- Adapted by: [Cesar Aybar](https://github.com/homayoun1990/GeoDeepLearning)\n",
    "\n",
    "**Changelog:**\n",
    "---\n",
    "\n",
    "```\n",
    "Version 0.0.1:\n",
    "    - Javascript implementation <Michael Schmitt>\n",
    "Version 0.0.2:\n",
    "    - Python implementation\n",
    "    - Resampling removed\n",
    "    - ndis range changed from \n",
    "      [0.8, 0.6] to [-0.8, 0.6] (preliminar)\n",
    "\n",
    "\n",
    "```"
   ]
  },
  {
   "cell_type": "markdown",
   "metadata": {
    "colab_type": "text",
    "id": "23wtuRiBVLDa"
   },
   "source": [
    "**1) Authenticate Earth Engine Account**"
   ]
  },
  {
   "cell_type": "code",
   "execution_count": 0,
   "metadata": {
    "colab": {},
    "colab_type": "code",
    "id": "ssSUoejzVY7E"
   },
   "outputs": [],
   "source": [
    "!earthengine authenticate"
   ]
  },
  {
   "cell_type": "markdown",
   "metadata": {
    "colab_type": "text",
    "id": "e8ZqiUnrXFyZ"
   },
   "source": [
    "**2) Load Sentinel2 modules**"
   ]
  },
  {
   "cell_type": "code",
   "execution_count": 0,
   "metadata": {
    "cellView": "form",
    "colab": {},
    "colab_type": "code",
    "id": "AV2_EJ9OVvG1"
   },
   "outputs": [],
   "source": [
    "#@title Download sentinel-2 modules\n",
    "#!git clone https://github.com/homayoun1990/GeoDeepLearning.git\n",
    "import os \n",
    "def download_s2_module(uri = 'https://github.com/homayoun1990/GeoDeepLearning.git',\n",
    "                       src = '/content/GeoDeepLearning/src'):\n",
    "  !git clone {uri}\n",
    "  os.chdir(src)    \n",
    "download_s2_module()"
   ]
  },
  {
   "cell_type": "markdown",
   "metadata": {
    "colab_type": "text",
    "id": "S6r7L3__W8D-"
   },
   "source": [
    "**3) Load trird-party libraries and Initialize the Earth Engine API**"
   ]
  },
  {
   "cell_type": "code",
   "execution_count": 0,
   "metadata": {
    "colab": {},
    "colab_type": "code",
    "id": "OOok1JMMW-tk"
   },
   "outputs": [],
   "source": [
    "import ee\n",
    "from display.mapdisplay import mapdisplay\n",
    "from preprocessing.s2.cloudfreeS2 import exportCloudFreeSen2\n",
    "ee.Initialize()"
   ]
  },
  {
   "cell_type": "markdown",
   "metadata": {
    "colab_type": "text",
    "id": "IOQtsUAy2rT2"
   },
   "source": [
    "**4) Viz parameters**"
   ]
  },
  {
   "cell_type": "code",
   "execution_count": 0,
   "metadata": {
    "colab": {},
    "colab_type": "code",
    "id": "svs5QKV90xJT"
   },
   "outputs": [],
   "source": [
    "# viz params\n",
    "saga_palette = [\"#000180\", \"#0075FD\", \"#6CFB93\", \"#F99D05\", \"#A70700\"]\n",
    "cloudscore_viz = {'palette': saga_palette, 'max':0.2, 'min':0}\n",
    "cloud_shadow_score_viz = {'palette': saga_palette, 'max':0, 'min':-0.2}\n",
    "s2viz = {'bands':['B4','B3','B2'],'max':4000,'min':0}"
   ]
  },
  {
   "cell_type": "markdown",
   "metadata": {
    "colab_type": "text",
    "id": "pJMWiwwj2yea"
   },
   "source": [
    "**5) Testing area (Loreto, Peru)**"
   ]
  },
  {
   "cell_type": "code",
   "execution_count": 0,
   "metadata": {
    "colab": {},
    "colab_type": "code",
    "id": "jLBa0Be_2vsZ"
   },
   "outputs": [],
   "source": [
    "roi=ee.Geometry.Polygon([[-73.36532592773438,-3.866994949019476],\n",
    "                         [-73.24859619140625,-3.866994949019476],\n",
    "                         [-73.24859619140625,-3.751208225628627],\n",
    "                         [-73.36532592773438,-3.751208225628627],\n",
    "                         [-73.36532592773438,-3.866994949019476]])"
   ]
  },
  {
   "cell_type": "markdown",
   "metadata": {
    "colab_type": "text",
    "id": "UTSZPYaC3J0k"
   },
   "source": [
    "**6) Preparing Sentinel2 ImageCollection**"
   ]
  },
  {
   "cell_type": "code",
   "execution_count": 0,
   "metadata": {
    "colab": {},
    "colab_type": "code",
    "id": "Q-3MyNyh28ad"
   },
   "outputs": [],
   "source": [
    "ic = ee.ImageCollection(\"COPERNICUS/S2\")\\\n",
    "        .filterBounds(roi)\\\n",
    "        .filterDate('2019-01-01','2019-12-31')\\\n",
    "        .filterMetadata('CLOUDY_PIXEL_PERCENTAGE','less_than',0.1)"
   ]
  },
  {
   "cell_type": "markdown",
   "metadata": {
    "colab_type": "text",
    "id": "tn77dd6F3Rnr"
   },
   "source": [
    "**7) Create temporal composite**"
   ]
  },
  {
   "cell_type": "code",
   "execution_count": 0,
   "metadata": {
    "colab": {},
    "colab_type": "code",
    "id": "O9d0Dco53QqL"
   },
   "outputs": [],
   "source": [
    "center = roi.centroid().coordinates().getInfo()\n",
    "mosaic_s2 = exportCloudFreeSen2(ic,roi,shadow=False)"
   ]
  },
  {
   "cell_type": "markdown",
   "metadata": {
    "colab_type": "text",
    "id": "Tl8bWxUP4PKf"
   },
   "source": [
    "**8) d"
   ]
  },
  {
   "cell_type": "code",
   "execution_count": 53,
   "metadata": {
    "colab": {
     "base_uri": "https://localhost:8080/",
     "height": 583
    },
    "colab_type": "code",
    "id": "m5Pia0aQ3V8B",
    "outputId": "a4963184-3c88-4b95-f69f-5ae66102b8d9"
   },
   "outputs": [
    {
     "data": {
      "text/html": [
       "<div style=\"width:100%;\"><div style=\"position:relative;width:100%;height:0;padding-bottom:60%;\"><iframe src=\"data:text/html;charset=utf-8;base64,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\" style=\"position:absolute;width:100%;height:100%;left:0;top:0;border:none !important;\" allowfullscreen webkitallowfullscreen mozallowfullscreen></iframe></div></div>"
      ],
      "text/plain": [
       "<folium.folium.Map at 0x7f0d49040cf8>"
      ]
     },
     "execution_count": 53,
     "metadata": {
      "tags": []
     },
     "output_type": "execute_result"
    }
   ],
   "source": [
    "mapdisplay(center = center,\n",
    "           dicc = {\n",
    "               'sentinel2':mosaic_s2.getMapId(s2viz),\n",
    "               'cloud_percentage':mosaic_s2.select('cloudScore').getMapId(cloudscore_viz),\n",
    "               #'shadow_percentage':mosaic_s2.select('shadowScore').getMapId(cloudscore_viz),\n",
    "               #'cloudshadow_percentage':mosaic_s2.select('cloudShadowScore').getMapId(cloud_shadow_score_viz)\n",
    "                  },\n",
    "           zoom_start=12)"
   ]
  }
 ],
 "metadata": {
  "colab": {
   "authorship_tag": "ABX9TyPvRTPFoRqnflJMSwNILZJo",
   "collapsed_sections": [],
   "include_colab_link": true,
   "name": "s2_preprocessing_demo.ipynb",
   "provenance": []
  },
  "kernelspec": {
   "display_name": "Python 3",
   "language": "python",
   "name": "python3"
  },
  "language_info": {
   "codemirror_mode": {
    "name": "ipython",
    "version": 3
   },
   "file_extension": ".py",
   "mimetype": "text/x-python",
   "name": "python",
   "nbconvert_exporter": "python",
   "pygments_lexer": "ipython3",
   "version": "3.7.4"
  }
 },
 "nbformat": 4,
 "nbformat_minor": 1
}
