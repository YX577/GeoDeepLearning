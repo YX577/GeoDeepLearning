{
  "nbformat": 4,
  "nbformat_minor": 0,
  "metadata": {
    "colab": {
      "name": "s2_preprocessing_demo.ipynb",
      "provenance": [],
      "collapsed_sections": [],
      "authorship_tag": "ABX9TyMCQUog3mlqolazSlGyFP96",
      "include_colab_link": true
    },
    "kernelspec": {
      "name": "python3",
      "display_name": "Python 3"
    }
  },
  "cells": [
    {
      "cell_type": "markdown",
      "metadata": {
        "id": "view-in-github",
        "colab_type": "text"
      },
      "source": [
        "<a href=\"https://colab.research.google.com/github/homayoun1990/GeoDeepLearning/blob/master/colabs/s2_preprocessing_demo.ipynb\" target=\"_parent\"><img src=\"https://colab.research.google.com/assets/colab-badge.svg\" alt=\"Open In Colab\"/></a>"
      ]
    },
    {
      "cell_type": "markdown",
      "metadata": {
        "id": "oxnmqiLtTfZ6",
        "colab_type": "text"
      },
      "source": [
        "## **Aggregating cloud-free Sentinel-2 images with Google Earth Engine**\n",
        "\n",
        "- Created by: [Michael Schmitt](https://www.isprs-ann-photogramm-remote-sens-spatial-inf-sci.net/IV-2-W7/145/2019/isprs-annals-IV-2-W7-145-2019.pdf) \n",
        "- Adapted by: [Cesar Aybar](https://github.com/homayoun1990/GeoDeepLearning)\n",
        "\n",
        "**Changelog:**\n",
        "---\n",
        "\n",
        "```\n",
        "Version 0.0.1:\n",
        "    - Javascript implementation <Michael Schmitt>\n",
        "Version 0.0.2:\n",
        "    - Python implementation\n",
        "    - Bottlenecks optimized\n",
        "\n",
        "\n",
        "```"
      ]
    },
    {
      "cell_type": "markdown",
      "metadata": {
        "id": "23wtuRiBVLDa",
        "colab_type": "text"
      },
      "source": [
        "**1) Authenticate and Initialize Earth Engine Account**"
      ]
    },
    {
      "cell_type": "code",
      "metadata": {
        "id": "ssSUoejzVY7E",
        "colab_type": "code",
        "colab": {}
      },
      "source": [
        "!earthengine authenticate"
      ],
      "execution_count": 0,
      "outputs": []
    },
    {
      "cell_type": "code",
      "metadata": {
        "id": "C8hiz7-MU5ai",
        "colab_type": "code",
        "colab": {}
      },
      "source": [
        "import ee\n",
        "ee.Initialize()"
      ],
      "execution_count": 0,
      "outputs": []
    },
    {
      "cell_type": "markdown",
      "metadata": {
        "id": "e8ZqiUnrXFyZ",
        "colab_type": "text"
      },
      "source": [
        "**2) Load Sentinel2 modules**"
      ]
    },
    {
      "cell_type": "code",
      "metadata": {
        "id": "AV2_EJ9OVvG1",
        "colab_type": "code",
        "colab": {},
        "cellView": "form"
      },
      "source": [
        "#@title Download sentinel-2 modules\n",
        "uri = 'https://github.com/homayoun1990/GeoDeepLearning/raw/master/src/'\n",
        "files = ['preprocessing/cloud_score.py',\n",
        "         'display/mapdisplay.py',\n",
        "         'preprocessing/shadowprojection.py']\n",
        "shap = ['%s%s' % (uri,x) for x in files]\n",
        "for x in shap:\n",
        "  !wget {x}"
      ],
      "execution_count": 0,
      "outputs": []
    },
    {
      "cell_type": "markdown",
      "metadata": {
        "id": "S6r7L3__W8D-",
        "colab_type": "text"
      },
      "source": [
        "**3) Load trird-party libraries**"
      ]
    },
    {
      "cell_type": "code",
      "metadata": {
        "id": "OOok1JMMW-tk",
        "colab_type": "code",
        "colab": {}
      },
      "source": [
        "import cloud_score\n",
        "import cloudstat_roi\n",
        "import shadowprojection\n",
        "from mapdisplay import mapdisplay"
      ],
      "execution_count": 0,
      "outputs": []
    }
  ]
}